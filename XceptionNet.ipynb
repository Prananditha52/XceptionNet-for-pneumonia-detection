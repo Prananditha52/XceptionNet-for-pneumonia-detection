{
  "cells": [
    {
      "cell_type": "markdown",
      "metadata": {
        "id": "view-in-github",
        "colab_type": "text"
      },
      "source": [
        "<a href=\"https://colab.research.google.com/github/Prananditha52/XceptionNet-for-pneumonia-detection/blob/main/XceptionNet.ipynb\" target=\"_parent\"><img src=\"https://colab.research.google.com/assets/colab-badge.svg\" alt=\"Open In Colab\"/></a>"
      ]
    },
    {
      "cell_type": "markdown",
      "source": [
        "importing the libraries"
      ],
      "metadata": {
        "id": "pdCpRNI9bYms"
      }
    },
    {
      "cell_type": "code",
      "execution_count": null,
      "metadata": {
        "id": "2U4ubeJwlFhI"
      },
      "outputs": [],
      "source": [
        "import numpy as np \n",
        "import pandas as pd \n",
        "import cv2\n",
        "from glob import glob\n",
        "import splitfolders\n",
        "import matplotlib.pyplot as plt \n",
        "import seaborn as sns\n",
        "from sklearn.model_selection import train_test_split\n",
        "from sklearn.model_selection import cross_val_score\n",
        "import tensorflow as tf \n",
        "from tensorflow.keras.preprocessing.image import ImageDataGenerator\n",
        "from tensorflow.keras.applications.xception import Xception\n",
        "from tensorflow.keras.optimizers import RMSprop,Adam"
      ]
    },
    {
      "cell_type": "code",
      "source": [
        "!pip install split_folders"
      ],
      "metadata": {
        "colab": {
          "base_uri": "https://localhost:8080/"
        },
        "id": "h71pfhhfO3Hv",
        "outputId": "aa171ff0-db72-4d00-a0da-69d10b7765c6"
      },
      "execution_count": null,
      "outputs": [
        {
          "output_type": "stream",
          "name": "stdout",
          "text": [
            "Looking in indexes: https://pypi.org/simple, https://us-python.pkg.dev/colab-wheels/public/simple/\n",
            "Collecting split_folders\n",
            "  Downloading split_folders-0.5.1-py3-none-any.whl (8.4 kB)\n",
            "Installing collected packages: split-folders\n",
            "Successfully installed split-folders-0.5.1\n"
          ]
        }
      ]
    },
    {
      "cell_type": "code",
      "source": [
        "t='/content/drive/MyDrive/CBL_Assignment/TAsk-2/Normal'\n",
        "h='/content/drive/MyDrive/CBL_Assignment/TAsk-2/Pneumonia'"
      ],
      "metadata": {
        "id": "1nxMxW74gSlL"
      },
      "execution_count": null,
      "outputs": []
    },
    {
      "cell_type": "code",
      "source": [
        "import os\n",
        "len(os.listdir(h))"
      ],
      "metadata": {
        "colab": {
          "base_uri": "https://localhost:8080/"
        },
        "id": "oXRwnMTDgy6o",
        "outputId": "226081f3-3df1-4611-deec-8598a4c4f5de"
      },
      "execution_count": null,
      "outputs": [
        {
          "output_type": "execute_result",
          "data": {
            "text/plain": [
              "4758"
            ]
          },
          "metadata": {},
          "execution_count": 6
        }
      ]
    },
    {
      "cell_type": "markdown",
      "source": [
        "splitting the dataset into training,testing and valiation folders."
      ],
      "metadata": {
        "id": "5KehiyuQbdhQ"
      }
    },
    {
      "cell_type": "code",
      "execution_count": null,
      "metadata": {
        "colab": {
          "base_uri": "https://localhost:8080/"
        },
        "id": "8CrsYcRjl4MY",
        "outputId": "a77fbac6-9103-452a-cfe4-4c591f06ed5c"
      },
      "outputs": [
        {
          "name": "stderr",
          "output_type": "stream",
          "text": [
            "Copying files: 21295 files [14:50, 23.91 files/s]\n"
          ]
        }
      ],
      "source": [
        "splitfolders.ratio('/content/drive/MyDrive/CBL_Assignment/TAsk-2', output=\"/content/drive/MyDrive/CBL_Assignment/TAsk-2/Output\", \n",
        "                   seed=42, ratio=(.8, .1, .1), \n",
        "                   group_prefix=None)"
      ]
    },
    {
      "cell_type": "code",
      "execution_count": null,
      "metadata": {
        "id": "_yTOBRucRE48"
      },
      "outputs": [],
      "source": [
        "training_dir='/content/drive/MyDrive/CBL_Assignment/TAsk-2/Output/train'\n",
        "validation_dir='/content/drive/MyDrive/CBL_Assignment/TAsk-2/Output/val'\n",
        "test_dir='/content/drive/MyDrive/CBL_Assignment/TAsk-2/Output/test'\n",
        "\n",
        "train_n_dir='/content/drive/MyDrive/CBL_Assignment/TAsk-2/Output/train/Normal'\n",
        "train_p_dir='/content/drive/MyDrive/CBL_Assignment/TAsk-2/Output/train/Pneumonia'\n",
        "val_n_dir='/content/drive/MyDrive/CBL_Assignment/TAsk-2/Output/val/Normal'\n",
        "val_p_dir='/content/drive/MyDrive/CBL_Assignment/TAsk-2/Output/val/Pneumonia'\n",
        "\n"
      ]
    },
    {
      "cell_type": "code",
      "execution_count": null,
      "metadata": {
        "colab": {
          "base_uri": "https://localhost:8080/"
        },
        "id": "8igcLFglUf01",
        "outputId": "615df00f-8a0e-4197-80a7-5b822212f382"
      },
      "outputs": [
        {
          "name": "stdout",
          "output_type": "stream",
          "text": [
            "(256, 256, 3)\n"
          ]
        }
      ],
      "source": [
        "img = cv2.imread('/content/drive/MyDrive/CBL_Assignment/TAsk-2/Output/train/Pneumonia/1000_g2.jpg')\n",
        "dimensions = img.shape\n",
        "print(dimensions)"
      ]
    },
    {
      "cell_type": "code",
      "execution_count": null,
      "metadata": {
        "colab": {
          "base_uri": "https://localhost:8080/"
        },
        "id": "UVuxqnzUmdfo",
        "outputId": "15ab7ea6-76f8-4e29-bf0d-4d05f60e1f09"
      },
      "outputs": [
        {
          "name": "stdout",
          "output_type": "stream",
          "text": [
            "1655\n"
          ]
        }
      ],
      "source": [
        "import fnmatch\n",
        "import os\n",
        "\n",
        "print(len(fnmatch.filter(os.listdir('/content/drive/MyDrive/CBL_Assignment/TAsk-2/Output/test/Normal'), '*.jpg')))"
      ]
    },
    {
      "cell_type": "code",
      "execution_count": null,
      "metadata": {
        "colab": {
          "base_uri": "https://localhost:8080/"
        },
        "id": "bzXX-6DLnYvD",
        "outputId": "7cd488aa-ae4b-4b6e-ee21-cbab8ab7ff47"
      },
      "outputs": [
        {
          "name": "stdout",
          "output_type": "stream",
          "text": [
            "477\n"
          ]
        }
      ],
      "source": [
        "print(len(fnmatch.filter(os.listdir('/content/drive/MyDrive/CBL_Assignment/TAsk-2/Output/test/Pneumonia'), '*.jpg')))"
      ]
    },
    {
      "cell_type": "markdown",
      "source": [
        "the images are rescaled and tranformed."
      ],
      "metadata": {
        "id": "J5u4XhKMblwA"
      }
    },
    {
      "cell_type": "code",
      "execution_count": null,
      "metadata": {
        "colab": {
          "base_uri": "https://localhost:8080/"
        },
        "id": "bscGZ6lbLOUk",
        "outputId": "43b0bae3-9c9e-4490-878f-5aed2fdd0729"
      },
      "outputs": [
        {
          "name": "stdout",
          "output_type": "stream",
          "text": [
            "Found 17035 images belonging to 2 classes.\n",
            "Found 2128 images belonging to 2 classes.\n",
            "Found 2132 images belonging to 2 classes.\n"
          ]
        }
      ],
      "source": [
        "train_datagen=ImageDataGenerator(rescale=1.0/255,\n",
        "                                 rotation_range=30,\n",
        "                                 width_shift_range=0.2,\n",
        "                                 height_shift_range=0.2,\n",
        "                                 zoom_range=0.2,\n",
        "                                 )\n",
        "\n",
        "val_datagen=ImageDataGenerator(rescale=1.0/255)\n",
        "\n",
        "test_datagen=ImageDataGenerator(rescale=1.0/255)\n",
        "\n",
        "train_generator=train_datagen.flow_from_directory(training_dir,batch_size=128,target_size=(180,180),class_mode='binary')\n",
        "\n",
        "val_generator=val_datagen.flow_from_directory(validation_dir,batch_size=128,target_size=(180,180),class_mode='binary')\n",
        "\n",
        "test_generator=test_datagen.flow_from_directory(test_dir,batch_size=128,target_size=(180,180),class_mode='binary')"
      ]
    },
    {
      "cell_type": "markdown",
      "source": [
        "Creating the Xception model pre-trained on Imagenet dataset."
      ],
      "metadata": {
        "id": "-EoNnc8rcKwT"
      }
    },
    {
      "cell_type": "code",
      "execution_count": null,
      "metadata": {
        "colab": {
          "base_uri": "https://localhost:8080/"
        },
        "id": "chEbI084S88e",
        "outputId": "754fbe32-21c4-4a26-98f4-0e4c7f0e7637"
      },
      "outputs": [
        {
          "name": "stdout",
          "output_type": "stream",
          "text": [
            "Downloading data from https://storage.googleapis.com/tensorflow/keras-applications/xception/xception_weights_tf_dim_ordering_tf_kernels_notop.h5\n",
            "83689472/83683744 [==============================] - 1s 0us/step\n",
            "83697664/83683744 [==============================] - 1s 0us/step\n",
            "Model: \"xception\"\n",
            "__________________________________________________________________________________________________\n",
            " Layer (type)                   Output Shape         Param #     Connected to                     \n",
            "==================================================================================================\n",
            " input_1 (InputLayer)           [(None, 180, 180, 3  0           []                               \n",
            "                                )]                                                                \n",
            "                                                                                                  \n",
            " block1_conv1 (Conv2D)          (None, 89, 89, 32)   864         ['input_1[0][0]']                \n",
            "                                                                                                  \n",
            " block1_conv1_bn (BatchNormaliz  (None, 89, 89, 32)  128         ['block1_conv1[0][0]']           \n",
            " ation)                                                                                           \n",
            "                                                                                                  \n",
            " block1_conv1_act (Activation)  (None, 89, 89, 32)   0           ['block1_conv1_bn[0][0]']        \n",
            "                                                                                                  \n",
            " block1_conv2 (Conv2D)          (None, 87, 87, 64)   18432       ['block1_conv1_act[0][0]']       \n",
            "                                                                                                  \n",
            " block1_conv2_bn (BatchNormaliz  (None, 87, 87, 64)  256         ['block1_conv2[0][0]']           \n",
            " ation)                                                                                           \n",
            "                                                                                                  \n",
            " block1_conv2_act (Activation)  (None, 87, 87, 64)   0           ['block1_conv2_bn[0][0]']        \n",
            "                                                                                                  \n",
            " block2_sepconv1 (SeparableConv  (None, 87, 87, 128)  8768       ['block1_conv2_act[0][0]']       \n",
            " 2D)                                                                                              \n",
            "                                                                                                  \n",
            " block2_sepconv1_bn (BatchNorma  (None, 87, 87, 128)  512        ['block2_sepconv1[0][0]']        \n",
            " lization)                                                                                        \n",
            "                                                                                                  \n",
            " block2_sepconv2_act (Activatio  (None, 87, 87, 128)  0          ['block2_sepconv1_bn[0][0]']     \n",
            " n)                                                                                               \n",
            "                                                                                                  \n",
            " block2_sepconv2 (SeparableConv  (None, 87, 87, 128)  17536      ['block2_sepconv2_act[0][0]']    \n",
            " 2D)                                                                                              \n",
            "                                                                                                  \n",
            " block2_sepconv2_bn (BatchNorma  (None, 87, 87, 128)  512        ['block2_sepconv2[0][0]']        \n",
            " lization)                                                                                        \n",
            "                                                                                                  \n",
            " conv2d (Conv2D)                (None, 44, 44, 128)  8192        ['block1_conv2_act[0][0]']       \n",
            "                                                                                                  \n",
            " block2_pool (MaxPooling2D)     (None, 44, 44, 128)  0           ['block2_sepconv2_bn[0][0]']     \n",
            "                                                                                                  \n",
            " batch_normalization (BatchNorm  (None, 44, 44, 128)  512        ['conv2d[0][0]']                 \n",
            " alization)                                                                                       \n",
            "                                                                                                  \n",
            " add (Add)                      (None, 44, 44, 128)  0           ['block2_pool[0][0]',            \n",
            "                                                                  'batch_normalization[0][0]']    \n",
            "                                                                                                  \n",
            " block3_sepconv1_act (Activatio  (None, 44, 44, 128)  0          ['add[0][0]']                    \n",
            " n)                                                                                               \n",
            "                                                                                                  \n",
            " block3_sepconv1 (SeparableConv  (None, 44, 44, 256)  33920      ['block3_sepconv1_act[0][0]']    \n",
            " 2D)                                                                                              \n",
            "                                                                                                  \n",
            " block3_sepconv1_bn (BatchNorma  (None, 44, 44, 256)  1024       ['block3_sepconv1[0][0]']        \n",
            " lization)                                                                                        \n",
            "                                                                                                  \n",
            " block3_sepconv2_act (Activatio  (None, 44, 44, 256)  0          ['block3_sepconv1_bn[0][0]']     \n",
            " n)                                                                                               \n",
            "                                                                                                  \n",
            " block3_sepconv2 (SeparableConv  (None, 44, 44, 256)  67840      ['block3_sepconv2_act[0][0]']    \n",
            " 2D)                                                                                              \n",
            "                                                                                                  \n",
            " block3_sepconv2_bn (BatchNorma  (None, 44, 44, 256)  1024       ['block3_sepconv2[0][0]']        \n",
            " lization)                                                                                        \n",
            "                                                                                                  \n",
            " conv2d_1 (Conv2D)              (None, 22, 22, 256)  32768       ['add[0][0]']                    \n",
            "                                                                                                  \n",
            " block3_pool (MaxPooling2D)     (None, 22, 22, 256)  0           ['block3_sepconv2_bn[0][0]']     \n",
            "                                                                                                  \n",
            " batch_normalization_1 (BatchNo  (None, 22, 22, 256)  1024       ['conv2d_1[0][0]']               \n",
            " rmalization)                                                                                     \n",
            "                                                                                                  \n",
            " add_1 (Add)                    (None, 22, 22, 256)  0           ['block3_pool[0][0]',            \n",
            "                                                                  'batch_normalization_1[0][0]']  \n",
            "                                                                                                  \n",
            " block4_sepconv1_act (Activatio  (None, 22, 22, 256)  0          ['add_1[0][0]']                  \n",
            " n)                                                                                               \n",
            "                                                                                                  \n",
            " block4_sepconv1 (SeparableConv  (None, 22, 22, 728)  188672     ['block4_sepconv1_act[0][0]']    \n",
            " 2D)                                                                                              \n",
            "                                                                                                  \n",
            " block4_sepconv1_bn (BatchNorma  (None, 22, 22, 728)  2912       ['block4_sepconv1[0][0]']        \n",
            " lization)                                                                                        \n",
            "                                                                                                  \n",
            " block4_sepconv2_act (Activatio  (None, 22, 22, 728)  0          ['block4_sepconv1_bn[0][0]']     \n",
            " n)                                                                                               \n",
            "                                                                                                  \n",
            " block4_sepconv2 (SeparableConv  (None, 22, 22, 728)  536536     ['block4_sepconv2_act[0][0]']    \n",
            " 2D)                                                                                              \n",
            "                                                                                                  \n",
            " block4_sepconv2_bn (BatchNorma  (None, 22, 22, 728)  2912       ['block4_sepconv2[0][0]']        \n",
            " lization)                                                                                        \n",
            "                                                                                                  \n",
            " conv2d_2 (Conv2D)              (None, 11, 11, 728)  186368      ['add_1[0][0]']                  \n",
            "                                                                                                  \n",
            " block4_pool (MaxPooling2D)     (None, 11, 11, 728)  0           ['block4_sepconv2_bn[0][0]']     \n",
            "                                                                                                  \n",
            " batch_normalization_2 (BatchNo  (None, 11, 11, 728)  2912       ['conv2d_2[0][0]']               \n",
            " rmalization)                                                                                     \n",
            "                                                                                                  \n",
            " add_2 (Add)                    (None, 11, 11, 728)  0           ['block4_pool[0][0]',            \n",
            "                                                                  'batch_normalization_2[0][0]']  \n",
            "                                                                                                  \n",
            " block5_sepconv1_act (Activatio  (None, 11, 11, 728)  0          ['add_2[0][0]']                  \n",
            " n)                                                                                               \n",
            "                                                                                                  \n",
            " block5_sepconv1 (SeparableConv  (None, 11, 11, 728)  536536     ['block5_sepconv1_act[0][0]']    \n",
            " 2D)                                                                                              \n",
            "                                                                                                  \n",
            " block5_sepconv1_bn (BatchNorma  (None, 11, 11, 728)  2912       ['block5_sepconv1[0][0]']        \n",
            " lization)                                                                                        \n",
            "                                                                                                  \n",
            " block5_sepconv2_act (Activatio  (None, 11, 11, 728)  0          ['block5_sepconv1_bn[0][0]']     \n",
            " n)                                                                                               \n",
            "                                                                                                  \n",
            " block5_sepconv2 (SeparableConv  (None, 11, 11, 728)  536536     ['block5_sepconv2_act[0][0]']    \n",
            " 2D)                                                                                              \n",
            "                                                                                                  \n",
            " block5_sepconv2_bn (BatchNorma  (None, 11, 11, 728)  2912       ['block5_sepconv2[0][0]']        \n",
            " lization)                                                                                        \n",
            "                                                                                                  \n",
            " block5_sepconv3_act (Activatio  (None, 11, 11, 728)  0          ['block5_sepconv2_bn[0][0]']     \n",
            " n)                                                                                               \n",
            "                                                                                                  \n",
            " block5_sepconv3 (SeparableConv  (None, 11, 11, 728)  536536     ['block5_sepconv3_act[0][0]']    \n",
            " 2D)                                                                                              \n",
            "                                                                                                  \n",
            " block5_sepconv3_bn (BatchNorma  (None, 11, 11, 728)  2912       ['block5_sepconv3[0][0]']        \n",
            " lization)                                                                                        \n",
            "                                                                                                  \n",
            " add_3 (Add)                    (None, 11, 11, 728)  0           ['block5_sepconv3_bn[0][0]',     \n",
            "                                                                  'add_2[0][0]']                  \n",
            "                                                                                                  \n",
            " block6_sepconv1_act (Activatio  (None, 11, 11, 728)  0          ['add_3[0][0]']                  \n",
            " n)                                                                                               \n",
            "                                                                                                  \n",
            " block6_sepconv1 (SeparableConv  (None, 11, 11, 728)  536536     ['block6_sepconv1_act[0][0]']    \n",
            " 2D)                                                                                              \n",
            "                                                                                                  \n",
            " block6_sepconv1_bn (BatchNorma  (None, 11, 11, 728)  2912       ['block6_sepconv1[0][0]']        \n",
            " lization)                                                                                        \n",
            "                                                                                                  \n",
            " block6_sepconv2_act (Activatio  (None, 11, 11, 728)  0          ['block6_sepconv1_bn[0][0]']     \n",
            " n)                                                                                               \n",
            "                                                                                                  \n",
            " block6_sepconv2 (SeparableConv  (None, 11, 11, 728)  536536     ['block6_sepconv2_act[0][0]']    \n",
            " 2D)                                                                                              \n",
            "                                                                                                  \n",
            " block6_sepconv2_bn (BatchNorma  (None, 11, 11, 728)  2912       ['block6_sepconv2[0][0]']        \n",
            " lization)                                                                                        \n",
            "                                                                                                  \n",
            " block6_sepconv3_act (Activatio  (None, 11, 11, 728)  0          ['block6_sepconv2_bn[0][0]']     \n",
            " n)                                                                                               \n",
            "                                                                                                  \n",
            " block6_sepconv3 (SeparableConv  (None, 11, 11, 728)  536536     ['block6_sepconv3_act[0][0]']    \n",
            " 2D)                                                                                              \n",
            "                                                                                                  \n",
            " block6_sepconv3_bn (BatchNorma  (None, 11, 11, 728)  2912       ['block6_sepconv3[0][0]']        \n",
            " lization)                                                                                        \n",
            "                                                                                                  \n",
            " add_4 (Add)                    (None, 11, 11, 728)  0           ['block6_sepconv3_bn[0][0]',     \n",
            "                                                                  'add_3[0][0]']                  \n",
            "                                                                                                  \n",
            " block7_sepconv1_act (Activatio  (None, 11, 11, 728)  0          ['add_4[0][0]']                  \n",
            " n)                                                                                               \n",
            "                                                                                                  \n",
            " block7_sepconv1 (SeparableConv  (None, 11, 11, 728)  536536     ['block7_sepconv1_act[0][0]']    \n",
            " 2D)                                                                                              \n",
            "                                                                                                  \n",
            " block7_sepconv1_bn (BatchNorma  (None, 11, 11, 728)  2912       ['block7_sepconv1[0][0]']        \n",
            " lization)                                                                                        \n",
            "                                                                                                  \n",
            " block7_sepconv2_act (Activatio  (None, 11, 11, 728)  0          ['block7_sepconv1_bn[0][0]']     \n",
            " n)                                                                                               \n",
            "                                                                                                  \n",
            " block7_sepconv2 (SeparableConv  (None, 11, 11, 728)  536536     ['block7_sepconv2_act[0][0]']    \n",
            " 2D)                                                                                              \n",
            "                                                                                                  \n",
            " block7_sepconv2_bn (BatchNorma  (None, 11, 11, 728)  2912       ['block7_sepconv2[0][0]']        \n",
            " lization)                                                                                        \n",
            "                                                                                                  \n",
            " block7_sepconv3_act (Activatio  (None, 11, 11, 728)  0          ['block7_sepconv2_bn[0][0]']     \n",
            " n)                                                                                               \n",
            "                                                                                                  \n",
            " block7_sepconv3 (SeparableConv  (None, 11, 11, 728)  536536     ['block7_sepconv3_act[0][0]']    \n",
            " 2D)                                                                                              \n",
            "                                                                                                  \n",
            " block7_sepconv3_bn (BatchNorma  (None, 11, 11, 728)  2912       ['block7_sepconv3[0][0]']        \n",
            " lization)                                                                                        \n",
            "                                                                                                  \n",
            " add_5 (Add)                    (None, 11, 11, 728)  0           ['block7_sepconv3_bn[0][0]',     \n",
            "                                                                  'add_4[0][0]']                  \n",
            "                                                                                                  \n",
            " block8_sepconv1_act (Activatio  (None, 11, 11, 728)  0          ['add_5[0][0]']                  \n",
            " n)                                                                                               \n",
            "                                                                                                  \n",
            " block8_sepconv1 (SeparableConv  (None, 11, 11, 728)  536536     ['block8_sepconv1_act[0][0]']    \n",
            " 2D)                                                                                              \n",
            "                                                                                                  \n",
            " block8_sepconv1_bn (BatchNorma  (None, 11, 11, 728)  2912       ['block8_sepconv1[0][0]']        \n",
            " lization)                                                                                        \n",
            "                                                                                                  \n",
            " block8_sepconv2_act (Activatio  (None, 11, 11, 728)  0          ['block8_sepconv1_bn[0][0]']     \n",
            " n)                                                                                               \n",
            "                                                                                                  \n",
            " block8_sepconv2 (SeparableConv  (None, 11, 11, 728)  536536     ['block8_sepconv2_act[0][0]']    \n",
            " 2D)                                                                                              \n",
            "                                                                                                  \n",
            " block8_sepconv2_bn (BatchNorma  (None, 11, 11, 728)  2912       ['block8_sepconv2[0][0]']        \n",
            " lization)                                                                                        \n",
            "                                                                                                  \n",
            " block8_sepconv3_act (Activatio  (None, 11, 11, 728)  0          ['block8_sepconv2_bn[0][0]']     \n",
            " n)                                                                                               \n",
            "                                                                                                  \n",
            " block8_sepconv3 (SeparableConv  (None, 11, 11, 728)  536536     ['block8_sepconv3_act[0][0]']    \n",
            " 2D)                                                                                              \n",
            "                                                                                                  \n",
            " block8_sepconv3_bn (BatchNorma  (None, 11, 11, 728)  2912       ['block8_sepconv3[0][0]']        \n",
            " lization)                                                                                        \n",
            "                                                                                                  \n",
            " add_6 (Add)                    (None, 11, 11, 728)  0           ['block8_sepconv3_bn[0][0]',     \n",
            "                                                                  'add_5[0][0]']                  \n",
            "                                                                                                  \n",
            " block9_sepconv1_act (Activatio  (None, 11, 11, 728)  0          ['add_6[0][0]']                  \n",
            " n)                                                                                               \n",
            "                                                                                                  \n",
            " block9_sepconv1 (SeparableConv  (None, 11, 11, 728)  536536     ['block9_sepconv1_act[0][0]']    \n",
            " 2D)                                                                                              \n",
            "                                                                                                  \n",
            " block9_sepconv1_bn (BatchNorma  (None, 11, 11, 728)  2912       ['block9_sepconv1[0][0]']        \n",
            " lization)                                                                                        \n",
            "                                                                                                  \n",
            " block9_sepconv2_act (Activatio  (None, 11, 11, 728)  0          ['block9_sepconv1_bn[0][0]']     \n",
            " n)                                                                                               \n",
            "                                                                                                  \n",
            " block9_sepconv2 (SeparableConv  (None, 11, 11, 728)  536536     ['block9_sepconv2_act[0][0]']    \n",
            " 2D)                                                                                              \n",
            "                                                                                                  \n",
            " block9_sepconv2_bn (BatchNorma  (None, 11, 11, 728)  2912       ['block9_sepconv2[0][0]']        \n",
            " lization)                                                                                        \n",
            "                                                                                                  \n",
            " block9_sepconv3_act (Activatio  (None, 11, 11, 728)  0          ['block9_sepconv2_bn[0][0]']     \n",
            " n)                                                                                               \n",
            "                                                                                                  \n",
            " block9_sepconv3 (SeparableConv  (None, 11, 11, 728)  536536     ['block9_sepconv3_act[0][0]']    \n",
            " 2D)                                                                                              \n",
            "                                                                                                  \n",
            " block9_sepconv3_bn (BatchNorma  (None, 11, 11, 728)  2912       ['block9_sepconv3[0][0]']        \n",
            " lization)                                                                                        \n",
            "                                                                                                  \n",
            " add_7 (Add)                    (None, 11, 11, 728)  0           ['block9_sepconv3_bn[0][0]',     \n",
            "                                                                  'add_6[0][0]']                  \n",
            "                                                                                                  \n",
            " block10_sepconv1_act (Activati  (None, 11, 11, 728)  0          ['add_7[0][0]']                  \n",
            " on)                                                                                              \n",
            "                                                                                                  \n",
            " block10_sepconv1 (SeparableCon  (None, 11, 11, 728)  536536     ['block10_sepconv1_act[0][0]']   \n",
            " v2D)                                                                                             \n",
            "                                                                                                  \n",
            " block10_sepconv1_bn (BatchNorm  (None, 11, 11, 728)  2912       ['block10_sepconv1[0][0]']       \n",
            " alization)                                                                                       \n",
            "                                                                                                  \n",
            " block10_sepconv2_act (Activati  (None, 11, 11, 728)  0          ['block10_sepconv1_bn[0][0]']    \n",
            " on)                                                                                              \n",
            "                                                                                                  \n",
            " block10_sepconv2 (SeparableCon  (None, 11, 11, 728)  536536     ['block10_sepconv2_act[0][0]']   \n",
            " v2D)                                                                                             \n",
            "                                                                                                  \n",
            " block10_sepconv2_bn (BatchNorm  (None, 11, 11, 728)  2912       ['block10_sepconv2[0][0]']       \n",
            " alization)                                                                                       \n",
            "                                                                                                  \n",
            " block10_sepconv3_act (Activati  (None, 11, 11, 728)  0          ['block10_sepconv2_bn[0][0]']    \n",
            " on)                                                                                              \n",
            "                                                                                                  \n",
            " block10_sepconv3 (SeparableCon  (None, 11, 11, 728)  536536     ['block10_sepconv3_act[0][0]']   \n",
            " v2D)                                                                                             \n",
            "                                                                                                  \n",
            " block10_sepconv3_bn (BatchNorm  (None, 11, 11, 728)  2912       ['block10_sepconv3[0][0]']       \n",
            " alization)                                                                                       \n",
            "                                                                                                  \n",
            " add_8 (Add)                    (None, 11, 11, 728)  0           ['block10_sepconv3_bn[0][0]',    \n",
            "                                                                  'add_7[0][0]']                  \n",
            "                                                                                                  \n",
            " block11_sepconv1_act (Activati  (None, 11, 11, 728)  0          ['add_8[0][0]']                  \n",
            " on)                                                                                              \n",
            "                                                                                                  \n",
            " block11_sepconv1 (SeparableCon  (None, 11, 11, 728)  536536     ['block11_sepconv1_act[0][0]']   \n",
            " v2D)                                                                                             \n",
            "                                                                                                  \n",
            " block11_sepconv1_bn (BatchNorm  (None, 11, 11, 728)  2912       ['block11_sepconv1[0][0]']       \n",
            " alization)                                                                                       \n",
            "                                                                                                  \n",
            " block11_sepconv2_act (Activati  (None, 11, 11, 728)  0          ['block11_sepconv1_bn[0][0]']    \n",
            " on)                                                                                              \n",
            "                                                                                                  \n",
            " block11_sepconv2 (SeparableCon  (None, 11, 11, 728)  536536     ['block11_sepconv2_act[0][0]']   \n",
            " v2D)                                                                                             \n",
            "                                                                                                  \n",
            " block11_sepconv2_bn (BatchNorm  (None, 11, 11, 728)  2912       ['block11_sepconv2[0][0]']       \n",
            " alization)                                                                                       \n",
            "                                                                                                  \n",
            " block11_sepconv3_act (Activati  (None, 11, 11, 728)  0          ['block11_sepconv2_bn[0][0]']    \n",
            " on)                                                                                              \n",
            "                                                                                                  \n",
            " block11_sepconv3 (SeparableCon  (None, 11, 11, 728)  536536     ['block11_sepconv3_act[0][0]']   \n",
            " v2D)                                                                                             \n",
            "                                                                                                  \n",
            " block11_sepconv3_bn (BatchNorm  (None, 11, 11, 728)  2912       ['block11_sepconv3[0][0]']       \n",
            " alization)                                                                                       \n",
            "                                                                                                  \n",
            " add_9 (Add)                    (None, 11, 11, 728)  0           ['block11_sepconv3_bn[0][0]',    \n",
            "                                                                  'add_8[0][0]']                  \n",
            "                                                                                                  \n",
            " block12_sepconv1_act (Activati  (None, 11, 11, 728)  0          ['add_9[0][0]']                  \n",
            " on)                                                                                              \n",
            "                                                                                                  \n",
            " block12_sepconv1 (SeparableCon  (None, 11, 11, 728)  536536     ['block12_sepconv1_act[0][0]']   \n",
            " v2D)                                                                                             \n",
            "                                                                                                  \n",
            " block12_sepconv1_bn (BatchNorm  (None, 11, 11, 728)  2912       ['block12_sepconv1[0][0]']       \n",
            " alization)                                                                                       \n",
            "                                                                                                  \n",
            " block12_sepconv2_act (Activati  (None, 11, 11, 728)  0          ['block12_sepconv1_bn[0][0]']    \n",
            " on)                                                                                              \n",
            "                                                                                                  \n",
            " block12_sepconv2 (SeparableCon  (None, 11, 11, 728)  536536     ['block12_sepconv2_act[0][0]']   \n",
            " v2D)                                                                                             \n",
            "                                                                                                  \n",
            " block12_sepconv2_bn (BatchNorm  (None, 11, 11, 728)  2912       ['block12_sepconv2[0][0]']       \n",
            " alization)                                                                                       \n",
            "                                                                                                  \n",
            " block12_sepconv3_act (Activati  (None, 11, 11, 728)  0          ['block12_sepconv2_bn[0][0]']    \n",
            " on)                                                                                              \n",
            "                                                                                                  \n",
            " block12_sepconv3 (SeparableCon  (None, 11, 11, 728)  536536     ['block12_sepconv3_act[0][0]']   \n",
            " v2D)                                                                                             \n",
            "                                                                                                  \n",
            " block12_sepconv3_bn (BatchNorm  (None, 11, 11, 728)  2912       ['block12_sepconv3[0][0]']       \n",
            " alization)                                                                                       \n",
            "                                                                                                  \n",
            " add_10 (Add)                   (None, 11, 11, 728)  0           ['block12_sepconv3_bn[0][0]',    \n",
            "                                                                  'add_9[0][0]']                  \n",
            "                                                                                                  \n",
            " block13_sepconv1_act (Activati  (None, 11, 11, 728)  0          ['add_10[0][0]']                 \n",
            " on)                                                                                              \n",
            "                                                                                                  \n",
            " block13_sepconv1 (SeparableCon  (None, 11, 11, 728)  536536     ['block13_sepconv1_act[0][0]']   \n",
            " v2D)                                                                                             \n",
            "                                                                                                  \n",
            " block13_sepconv1_bn (BatchNorm  (None, 11, 11, 728)  2912       ['block13_sepconv1[0][0]']       \n",
            " alization)                                                                                       \n",
            "                                                                                                  \n",
            " block13_sepconv2_act (Activati  (None, 11, 11, 728)  0          ['block13_sepconv1_bn[0][0]']    \n",
            " on)                                                                                              \n",
            "                                                                                                  \n",
            " block13_sepconv2 (SeparableCon  (None, 11, 11, 1024  752024     ['block13_sepconv2_act[0][0]']   \n",
            " v2D)                           )                                                                 \n",
            "                                                                                                  \n",
            " block13_sepconv2_bn (BatchNorm  (None, 11, 11, 1024  4096       ['block13_sepconv2[0][0]']       \n",
            " alization)                     )                                                                 \n",
            "                                                                                                  \n",
            " conv2d_3 (Conv2D)              (None, 6, 6, 1024)   745472      ['add_10[0][0]']                 \n",
            "                                                                                                  \n",
            " block13_pool (MaxPooling2D)    (None, 6, 6, 1024)   0           ['block13_sepconv2_bn[0][0]']    \n",
            "                                                                                                  \n",
            " batch_normalization_3 (BatchNo  (None, 6, 6, 1024)  4096        ['conv2d_3[0][0]']               \n",
            " rmalization)                                                                                     \n",
            "                                                                                                  \n",
            " add_11 (Add)                   (None, 6, 6, 1024)   0           ['block13_pool[0][0]',           \n",
            "                                                                  'batch_normalization_3[0][0]']  \n",
            "                                                                                                  \n",
            " block14_sepconv1 (SeparableCon  (None, 6, 6, 1536)  1582080     ['add_11[0][0]']                 \n",
            " v2D)                                                                                             \n",
            "                                                                                                  \n",
            " block14_sepconv1_bn (BatchNorm  (None, 6, 6, 1536)  6144        ['block14_sepconv1[0][0]']       \n",
            " alization)                                                                                       \n",
            "                                                                                                  \n",
            " block14_sepconv1_act (Activati  (None, 6, 6, 1536)  0           ['block14_sepconv1_bn[0][0]']    \n",
            " on)                                                                                              \n",
            "                                                                                                  \n",
            " block14_sepconv2 (SeparableCon  (None, 6, 6, 2048)  3159552     ['block14_sepconv1_act[0][0]']   \n",
            " v2D)                                                                                             \n",
            "                                                                                                  \n",
            " block14_sepconv2_bn (BatchNorm  (None, 6, 6, 2048)  8192        ['block14_sepconv2[0][0]']       \n",
            " alization)                                                                                       \n",
            "                                                                                                  \n",
            " block14_sepconv2_act (Activati  (None, 6, 6, 2048)  0           ['block14_sepconv2_bn[0][0]']    \n",
            " on)                                                                                              \n",
            "                                                                                                  \n",
            "==================================================================================================\n",
            "Total params: 20,861,480\n",
            "Trainable params: 0\n",
            "Non-trainable params: 20,861,480\n",
            "__________________________________________________________________________________________________\n"
          ]
        }
      ],
      "source": [
        "model = Xception(weights= 'imagenet', include_top=False,input_shape= (180,180,3))\n",
        "\n",
        "#freazing the trained layers\n",
        "for layers in model.layers:\n",
        "    layers.trainable = False\n",
        "\n",
        "model.summary()"
      ]
    },
    {
      "cell_type": "markdown",
      "source": [
        "Fine-tuning the pre-trained model for the pneumonia dataset. The last layer of the model is flattened and then it is connected to a layer with 1024 neurons the next layer has 256 nodes with relu activation layer and the last layer with just one output node connected to a sigmoid activation layer."
      ],
      "metadata": {
        "id": "vCs_BJslc-r-"
      }
    },
    {
      "cell_type": "code",
      "execution_count": null,
      "metadata": {
        "colab": {
          "base_uri": "https://localhost:8080/"
        },
        "id": "PWrvB9HkU5fj",
        "outputId": "710f84cf-8cc8-45b7-cb37-06e8fee5031c"
      },
      "outputs": [
        {
          "name": "stdout",
          "output_type": "stream",
          "text": [
            "Model: \"model\"\n",
            "__________________________________________________________________________________________________\n",
            " Layer (type)                   Output Shape         Param #     Connected to                     \n",
            "==================================================================================================\n",
            " input_1 (InputLayer)           [(None, 180, 180, 3  0           []                               \n",
            "                                )]                                                                \n",
            "                                                                                                  \n",
            " block1_conv1 (Conv2D)          (None, 89, 89, 32)   864         ['input_1[0][0]']                \n",
            "                                                                                                  \n",
            " block1_conv1_bn (BatchNormaliz  (None, 89, 89, 32)  128         ['block1_conv1[0][0]']           \n",
            " ation)                                                                                           \n",
            "                                                                                                  \n",
            " block1_conv1_act (Activation)  (None, 89, 89, 32)   0           ['block1_conv1_bn[0][0]']        \n",
            "                                                                                                  \n",
            " block1_conv2 (Conv2D)          (None, 87, 87, 64)   18432       ['block1_conv1_act[0][0]']       \n",
            "                                                                                                  \n",
            " block1_conv2_bn (BatchNormaliz  (None, 87, 87, 64)  256         ['block1_conv2[0][0]']           \n",
            " ation)                                                                                           \n",
            "                                                                                                  \n",
            " block1_conv2_act (Activation)  (None, 87, 87, 64)   0           ['block1_conv2_bn[0][0]']        \n",
            "                                                                                                  \n",
            " block2_sepconv1 (SeparableConv  (None, 87, 87, 128)  8768       ['block1_conv2_act[0][0]']       \n",
            " 2D)                                                                                              \n",
            "                                                                                                  \n",
            " block2_sepconv1_bn (BatchNorma  (None, 87, 87, 128)  512        ['block2_sepconv1[0][0]']        \n",
            " lization)                                                                                        \n",
            "                                                                                                  \n",
            " block2_sepconv2_act (Activatio  (None, 87, 87, 128)  0          ['block2_sepconv1_bn[0][0]']     \n",
            " n)                                                                                               \n",
            "                                                                                                  \n",
            " block2_sepconv2 (SeparableConv  (None, 87, 87, 128)  17536      ['block2_sepconv2_act[0][0]']    \n",
            " 2D)                                                                                              \n",
            "                                                                                                  \n",
            " block2_sepconv2_bn (BatchNorma  (None, 87, 87, 128)  512        ['block2_sepconv2[0][0]']        \n",
            " lization)                                                                                        \n",
            "                                                                                                  \n",
            " conv2d (Conv2D)                (None, 44, 44, 128)  8192        ['block1_conv2_act[0][0]']       \n",
            "                                                                                                  \n",
            " block2_pool (MaxPooling2D)     (None, 44, 44, 128)  0           ['block2_sepconv2_bn[0][0]']     \n",
            "                                                                                                  \n",
            " batch_normalization (BatchNorm  (None, 44, 44, 128)  512        ['conv2d[0][0]']                 \n",
            " alization)                                                                                       \n",
            "                                                                                                  \n",
            " add (Add)                      (None, 44, 44, 128)  0           ['block2_pool[0][0]',            \n",
            "                                                                  'batch_normalization[0][0]']    \n",
            "                                                                                                  \n",
            " block3_sepconv1_act (Activatio  (None, 44, 44, 128)  0          ['add[0][0]']                    \n",
            " n)                                                                                               \n",
            "                                                                                                  \n",
            " block3_sepconv1 (SeparableConv  (None, 44, 44, 256)  33920      ['block3_sepconv1_act[0][0]']    \n",
            " 2D)                                                                                              \n",
            "                                                                                                  \n",
            " block3_sepconv1_bn (BatchNorma  (None, 44, 44, 256)  1024       ['block3_sepconv1[0][0]']        \n",
            " lization)                                                                                        \n",
            "                                                                                                  \n",
            " block3_sepconv2_act (Activatio  (None, 44, 44, 256)  0          ['block3_sepconv1_bn[0][0]']     \n",
            " n)                                                                                               \n",
            "                                                                                                  \n",
            " block3_sepconv2 (SeparableConv  (None, 44, 44, 256)  67840      ['block3_sepconv2_act[0][0]']    \n",
            " 2D)                                                                                              \n",
            "                                                                                                  \n",
            " block3_sepconv2_bn (BatchNorma  (None, 44, 44, 256)  1024       ['block3_sepconv2[0][0]']        \n",
            " lization)                                                                                        \n",
            "                                                                                                  \n",
            " conv2d_1 (Conv2D)              (None, 22, 22, 256)  32768       ['add[0][0]']                    \n",
            "                                                                                                  \n",
            " block3_pool (MaxPooling2D)     (None, 22, 22, 256)  0           ['block3_sepconv2_bn[0][0]']     \n",
            "                                                                                                  \n",
            " batch_normalization_1 (BatchNo  (None, 22, 22, 256)  1024       ['conv2d_1[0][0]']               \n",
            " rmalization)                                                                                     \n",
            "                                                                                                  \n",
            " add_1 (Add)                    (None, 22, 22, 256)  0           ['block3_pool[0][0]',            \n",
            "                                                                  'batch_normalization_1[0][0]']  \n",
            "                                                                                                  \n",
            " block4_sepconv1_act (Activatio  (None, 22, 22, 256)  0          ['add_1[0][0]']                  \n",
            " n)                                                                                               \n"
          ]
        },
        {
          "name": "stderr",
          "output_type": "stream",
          "text": [
            "/usr/local/lib/python3.7/dist-packages/keras/optimizer_v2/rmsprop.py:130: UserWarning: The `lr` argument is deprecated, use `learning_rate` instead.\n",
            "  super(RMSprop, self).__init__(name, **kwargs)\n"
          ]
        },
        {
          "name": "stdout",
          "output_type": "stream",
          "text": [
            "                                                                                                  \n",
            " block4_sepconv1 (SeparableConv  (None, 22, 22, 728)  188672     ['block4_sepconv1_act[0][0]']    \n",
            " 2D)                                                                                              \n",
            "                                                                                                  \n",
            " block4_sepconv1_bn (BatchNorma  (None, 22, 22, 728)  2912       ['block4_sepconv1[0][0]']        \n",
            " lization)                                                                                        \n",
            "                                                                                                  \n",
            " block4_sepconv2_act (Activatio  (None, 22, 22, 728)  0          ['block4_sepconv1_bn[0][0]']     \n",
            " n)                                                                                               \n",
            "                                                                                                  \n",
            " block4_sepconv2 (SeparableConv  (None, 22, 22, 728)  536536     ['block4_sepconv2_act[0][0]']    \n",
            " 2D)                                                                                              \n",
            "                                                                                                  \n",
            " block4_sepconv2_bn (BatchNorma  (None, 22, 22, 728)  2912       ['block4_sepconv2[0][0]']        \n",
            " lization)                                                                                        \n",
            "                                                                                                  \n",
            " conv2d_2 (Conv2D)              (None, 11, 11, 728)  186368      ['add_1[0][0]']                  \n",
            "                                                                                                  \n",
            " block4_pool (MaxPooling2D)     (None, 11, 11, 728)  0           ['block4_sepconv2_bn[0][0]']     \n",
            "                                                                                                  \n",
            " batch_normalization_2 (BatchNo  (None, 11, 11, 728)  2912       ['conv2d_2[0][0]']               \n",
            " rmalization)                                                                                     \n",
            "                                                                                                  \n",
            " add_2 (Add)                    (None, 11, 11, 728)  0           ['block4_pool[0][0]',            \n",
            "                                                                  'batch_normalization_2[0][0]']  \n",
            "                                                                                                  \n",
            " block5_sepconv1_act (Activatio  (None, 11, 11, 728)  0          ['add_2[0][0]']                  \n",
            " n)                                                                                               \n",
            "                                                                                                  \n",
            " block5_sepconv1 (SeparableConv  (None, 11, 11, 728)  536536     ['block5_sepconv1_act[0][0]']    \n",
            " 2D)                                                                                              \n",
            "                                                                                                  \n",
            " block5_sepconv1_bn (BatchNorma  (None, 11, 11, 728)  2912       ['block5_sepconv1[0][0]']        \n",
            " lization)                                                                                        \n",
            "                                                                                                  \n",
            " block5_sepconv2_act (Activatio  (None, 11, 11, 728)  0          ['block5_sepconv1_bn[0][0]']     \n",
            " n)                                                                                               \n",
            "                                                                                                  \n",
            " block5_sepconv2 (SeparableConv  (None, 11, 11, 728)  536536     ['block5_sepconv2_act[0][0]']    \n",
            " 2D)                                                                                              \n",
            "                                                                                                  \n",
            " block5_sepconv2_bn (BatchNorma  (None, 11, 11, 728)  2912       ['block5_sepconv2[0][0]']        \n",
            " lization)                                                                                        \n",
            "                                                                                                  \n",
            " block5_sepconv3_act (Activatio  (None, 11, 11, 728)  0          ['block5_sepconv2_bn[0][0]']     \n",
            " n)                                                                                               \n",
            "                                                                                                  \n",
            " block5_sepconv3 (SeparableConv  (None, 11, 11, 728)  536536     ['block5_sepconv3_act[0][0]']    \n",
            " 2D)                                                                                              \n",
            "                                                                                                  \n",
            " block5_sepconv3_bn (BatchNorma  (None, 11, 11, 728)  2912       ['block5_sepconv3[0][0]']        \n",
            " lization)                                                                                        \n",
            "                                                                                                  \n",
            " add_3 (Add)                    (None, 11, 11, 728)  0           ['block5_sepconv3_bn[0][0]',     \n",
            "                                                                  'add_2[0][0]']                  \n",
            "                                                                                                  \n",
            " block6_sepconv1_act (Activatio  (None, 11, 11, 728)  0          ['add_3[0][0]']                  \n",
            " n)                                                                                               \n",
            "                                                                                                  \n",
            " block6_sepconv1 (SeparableConv  (None, 11, 11, 728)  536536     ['block6_sepconv1_act[0][0]']    \n",
            " 2D)                                                                                              \n",
            "                                                                                                  \n",
            " block6_sepconv1_bn (BatchNorma  (None, 11, 11, 728)  2912       ['block6_sepconv1[0][0]']        \n",
            " lization)                                                                                        \n",
            "                                                                                                  \n",
            " block6_sepconv2_act (Activatio  (None, 11, 11, 728)  0          ['block6_sepconv1_bn[0][0]']     \n",
            " n)                                                                                               \n",
            "                                                                                                  \n",
            " block6_sepconv2 (SeparableConv  (None, 11, 11, 728)  536536     ['block6_sepconv2_act[0][0]']    \n",
            " 2D)                                                                                              \n",
            "                                                                                                  \n",
            " block6_sepconv2_bn (BatchNorma  (None, 11, 11, 728)  2912       ['block6_sepconv2[0][0]']        \n",
            " lization)                                                                                        \n",
            "                                                                                                  \n",
            " block6_sepconv3_act (Activatio  (None, 11, 11, 728)  0          ['block6_sepconv2_bn[0][0]']     \n",
            " n)                                                                                               \n",
            "                                                                                                  \n",
            " block6_sepconv3 (SeparableConv  (None, 11, 11, 728)  536536     ['block6_sepconv3_act[0][0]']    \n",
            " 2D)                                                                                              \n",
            "                                                                                                  \n",
            " block6_sepconv3_bn (BatchNorma  (None, 11, 11, 728)  2912       ['block6_sepconv3[0][0]']        \n",
            " lization)                                                                                        \n",
            "                                                                                                  \n",
            " add_4 (Add)                    (None, 11, 11, 728)  0           ['block6_sepconv3_bn[0][0]',     \n",
            "                                                                  'add_3[0][0]']                  \n",
            "                                                                                                  \n",
            " block7_sepconv1_act (Activatio  (None, 11, 11, 728)  0          ['add_4[0][0]']                  \n",
            " n)                                                                                               \n",
            "                                                                                                  \n",
            " block7_sepconv1 (SeparableConv  (None, 11, 11, 728)  536536     ['block7_sepconv1_act[0][0]']    \n",
            " 2D)                                                                                              \n",
            "                                                                                                  \n",
            " block7_sepconv1_bn (BatchNorma  (None, 11, 11, 728)  2912       ['block7_sepconv1[0][0]']        \n",
            " lization)                                                                                        \n",
            "                                                                                                  \n",
            " block7_sepconv2_act (Activatio  (None, 11, 11, 728)  0          ['block7_sepconv1_bn[0][0]']     \n",
            " n)                                                                                               \n",
            "                                                                                                  \n",
            " block7_sepconv2 (SeparableConv  (None, 11, 11, 728)  536536     ['block7_sepconv2_act[0][0]']    \n",
            " 2D)                                                                                              \n",
            "                                                                                                  \n",
            " block7_sepconv2_bn (BatchNorma  (None, 11, 11, 728)  2912       ['block7_sepconv2[0][0]']        \n",
            " lization)                                                                                        \n",
            "                                                                                                  \n",
            " block7_sepconv3_act (Activatio  (None, 11, 11, 728)  0          ['block7_sepconv2_bn[0][0]']     \n",
            " n)                                                                                               \n",
            "                                                                                                  \n",
            " block7_sepconv3 (SeparableConv  (None, 11, 11, 728)  536536     ['block7_sepconv3_act[0][0]']    \n",
            " 2D)                                                                                              \n",
            "                                                                                                  \n",
            " block7_sepconv3_bn (BatchNorma  (None, 11, 11, 728)  2912       ['block7_sepconv3[0][0]']        \n",
            " lization)                                                                                        \n",
            "                                                                                                  \n",
            " add_5 (Add)                    (None, 11, 11, 728)  0           ['block7_sepconv3_bn[0][0]',     \n",
            "                                                                  'add_4[0][0]']                  \n",
            "                                                                                                  \n",
            " block8_sepconv1_act (Activatio  (None, 11, 11, 728)  0          ['add_5[0][0]']                  \n",
            " n)                                                                                               \n",
            "                                                                                                  \n",
            " block8_sepconv1 (SeparableConv  (None, 11, 11, 728)  536536     ['block8_sepconv1_act[0][0]']    \n",
            " 2D)                                                                                              \n",
            "                                                                                                  \n",
            " block8_sepconv1_bn (BatchNorma  (None, 11, 11, 728)  2912       ['block8_sepconv1[0][0]']        \n",
            " lization)                                                                                        \n",
            "                                                                                                  \n",
            " block8_sepconv2_act (Activatio  (None, 11, 11, 728)  0          ['block8_sepconv1_bn[0][0]']     \n",
            " n)                                                                                               \n",
            "                                                                                                  \n",
            " block8_sepconv2 (SeparableConv  (None, 11, 11, 728)  536536     ['block8_sepconv2_act[0][0]']    \n",
            " 2D)                                                                                              \n",
            "                                                                                                  \n",
            " block8_sepconv2_bn (BatchNorma  (None, 11, 11, 728)  2912       ['block8_sepconv2[0][0]']        \n",
            " lization)                                                                                        \n",
            "                                                                                                  \n",
            " block8_sepconv3_act (Activatio  (None, 11, 11, 728)  0          ['block8_sepconv2_bn[0][0]']     \n",
            " n)                                                                                               \n",
            "                                                                                                  \n",
            " block8_sepconv3 (SeparableConv  (None, 11, 11, 728)  536536     ['block8_sepconv3_act[0][0]']    \n",
            " 2D)                                                                                              \n",
            "                                                                                                  \n",
            " block8_sepconv3_bn (BatchNorma  (None, 11, 11, 728)  2912       ['block8_sepconv3[0][0]']        \n",
            " lization)                                                                                        \n",
            "                                                                                                  \n",
            " add_6 (Add)                    (None, 11, 11, 728)  0           ['block8_sepconv3_bn[0][0]',     \n",
            "                                                                  'add_5[0][0]']                  \n",
            "                                                                                                  \n",
            " block9_sepconv1_act (Activatio  (None, 11, 11, 728)  0          ['add_6[0][0]']                  \n",
            " n)                                                                                               \n",
            "                                                                                                  \n",
            " block9_sepconv1 (SeparableConv  (None, 11, 11, 728)  536536     ['block9_sepconv1_act[0][0]']    \n",
            " 2D)                                                                                              \n",
            "                                                                                                  \n",
            " block9_sepconv1_bn (BatchNorma  (None, 11, 11, 728)  2912       ['block9_sepconv1[0][0]']        \n",
            " lization)                                                                                        \n",
            "                                                                                                  \n",
            " block9_sepconv2_act (Activatio  (None, 11, 11, 728)  0          ['block9_sepconv1_bn[0][0]']     \n",
            " n)                                                                                               \n",
            "                                                                                                  \n",
            " block9_sepconv2 (SeparableConv  (None, 11, 11, 728)  536536     ['block9_sepconv2_act[0][0]']    \n",
            " 2D)                                                                                              \n",
            "                                                                                                  \n",
            " block9_sepconv2_bn (BatchNorma  (None, 11, 11, 728)  2912       ['block9_sepconv2[0][0]']        \n",
            " lization)                                                                                        \n",
            "                                                                                                  \n",
            " block9_sepconv3_act (Activatio  (None, 11, 11, 728)  0          ['block9_sepconv2_bn[0][0]']     \n",
            " n)                                                                                               \n",
            "                                                                                                  \n",
            " block9_sepconv3 (SeparableConv  (None, 11, 11, 728)  536536     ['block9_sepconv3_act[0][0]']    \n",
            " 2D)                                                                                              \n",
            "                                                                                                  \n",
            " block9_sepconv3_bn (BatchNorma  (None, 11, 11, 728)  2912       ['block9_sepconv3[0][0]']        \n",
            " lization)                                                                                        \n",
            "                                                                                                  \n",
            " add_7 (Add)                    (None, 11, 11, 728)  0           ['block9_sepconv3_bn[0][0]',     \n",
            "                                                                  'add_6[0][0]']                  \n",
            "                                                                                                  \n",
            " block10_sepconv1_act (Activati  (None, 11, 11, 728)  0          ['add_7[0][0]']                  \n",
            " on)                                                                                              \n",
            "                                                                                                  \n",
            " block10_sepconv1 (SeparableCon  (None, 11, 11, 728)  536536     ['block10_sepconv1_act[0][0]']   \n",
            " v2D)                                                                                             \n",
            "                                                                                                  \n",
            " block10_sepconv1_bn (BatchNorm  (None, 11, 11, 728)  2912       ['block10_sepconv1[0][0]']       \n",
            " alization)                                                                                       \n",
            "                                                                                                  \n",
            " block10_sepconv2_act (Activati  (None, 11, 11, 728)  0          ['block10_sepconv1_bn[0][0]']    \n",
            " on)                                                                                              \n",
            "                                                                                                  \n",
            " block10_sepconv2 (SeparableCon  (None, 11, 11, 728)  536536     ['block10_sepconv2_act[0][0]']   \n",
            " v2D)                                                                                             \n",
            "                                                                                                  \n",
            " block10_sepconv2_bn (BatchNorm  (None, 11, 11, 728)  2912       ['block10_sepconv2[0][0]']       \n",
            " alization)                                                                                       \n",
            "                                                                                                  \n",
            " block10_sepconv3_act (Activati  (None, 11, 11, 728)  0          ['block10_sepconv2_bn[0][0]']    \n",
            " on)                                                                                              \n",
            "                                                                                                  \n",
            " block10_sepconv3 (SeparableCon  (None, 11, 11, 728)  536536     ['block10_sepconv3_act[0][0]']   \n",
            " v2D)                                                                                             \n",
            "                                                                                                  \n",
            " block10_sepconv3_bn (BatchNorm  (None, 11, 11, 728)  2912       ['block10_sepconv3[0][0]']       \n",
            " alization)                                                                                       \n",
            "                                                                                                  \n",
            " add_8 (Add)                    (None, 11, 11, 728)  0           ['block10_sepconv3_bn[0][0]',    \n",
            "                                                                  'add_7[0][0]']                  \n",
            "                                                                                                  \n",
            " block11_sepconv1_act (Activati  (None, 11, 11, 728)  0          ['add_8[0][0]']                  \n",
            " on)                                                                                              \n",
            "                                                                                                  \n",
            " block11_sepconv1 (SeparableCon  (None, 11, 11, 728)  536536     ['block11_sepconv1_act[0][0]']   \n",
            " v2D)                                                                                             \n",
            "                                                                                                  \n",
            " block11_sepconv1_bn (BatchNorm  (None, 11, 11, 728)  2912       ['block11_sepconv1[0][0]']       \n",
            " alization)                                                                                       \n",
            "                                                                                                  \n",
            " block11_sepconv2_act (Activati  (None, 11, 11, 728)  0          ['block11_sepconv1_bn[0][0]']    \n",
            " on)                                                                                              \n",
            "                                                                                                  \n",
            " block11_sepconv2 (SeparableCon  (None, 11, 11, 728)  536536     ['block11_sepconv2_act[0][0]']   \n",
            " v2D)                                                                                             \n",
            "                                                                                                  \n",
            " block11_sepconv2_bn (BatchNorm  (None, 11, 11, 728)  2912       ['block11_sepconv2[0][0]']       \n",
            " alization)                                                                                       \n",
            "                                                                                                  \n",
            " block11_sepconv3_act (Activati  (None, 11, 11, 728)  0          ['block11_sepconv2_bn[0][0]']    \n",
            " on)                                                                                              \n",
            "                                                                                                  \n",
            " block11_sepconv3 (SeparableCon  (None, 11, 11, 728)  536536     ['block11_sepconv3_act[0][0]']   \n",
            " v2D)                                                                                             \n",
            "                                                                                                  \n",
            " block11_sepconv3_bn (BatchNorm  (None, 11, 11, 728)  2912       ['block11_sepconv3[0][0]']       \n",
            " alization)                                                                                       \n",
            "                                                                                                  \n",
            " add_9 (Add)                    (None, 11, 11, 728)  0           ['block11_sepconv3_bn[0][0]',    \n",
            "                                                                  'add_8[0][0]']                  \n",
            "                                                                                                  \n",
            " block12_sepconv1_act (Activati  (None, 11, 11, 728)  0          ['add_9[0][0]']                  \n",
            " on)                                                                                              \n",
            "                                                                                                  \n",
            " block12_sepconv1 (SeparableCon  (None, 11, 11, 728)  536536     ['block12_sepconv1_act[0][0]']   \n",
            " v2D)                                                                                             \n",
            "                                                                                                  \n",
            " block12_sepconv1_bn (BatchNorm  (None, 11, 11, 728)  2912       ['block12_sepconv1[0][0]']       \n",
            " alization)                                                                                       \n",
            "                                                                                                  \n",
            " block12_sepconv2_act (Activati  (None, 11, 11, 728)  0          ['block12_sepconv1_bn[0][0]']    \n",
            " on)                                                                                              \n",
            "                                                                                                  \n",
            " block12_sepconv2 (SeparableCon  (None, 11, 11, 728)  536536     ['block12_sepconv2_act[0][0]']   \n",
            " v2D)                                                                                             \n",
            "                                                                                                  \n",
            " block12_sepconv2_bn (BatchNorm  (None, 11, 11, 728)  2912       ['block12_sepconv2[0][0]']       \n",
            " alization)                                                                                       \n",
            "                                                                                                  \n",
            " block12_sepconv3_act (Activati  (None, 11, 11, 728)  0          ['block12_sepconv2_bn[0][0]']    \n",
            " on)                                                                                              \n",
            "                                                                                                  \n",
            " block12_sepconv3 (SeparableCon  (None, 11, 11, 728)  536536     ['block12_sepconv3_act[0][0]']   \n",
            " v2D)                                                                                             \n",
            "                                                                                                  \n",
            " block12_sepconv3_bn (BatchNorm  (None, 11, 11, 728)  2912       ['block12_sepconv3[0][0]']       \n",
            " alization)                                                                                       \n",
            "                                                                                                  \n",
            " add_10 (Add)                   (None, 11, 11, 728)  0           ['block12_sepconv3_bn[0][0]',    \n",
            "                                                                  'add_9[0][0]']                  \n",
            "                                                                                                  \n",
            " block13_sepconv1_act (Activati  (None, 11, 11, 728)  0          ['add_10[0][0]']                 \n",
            " on)                                                                                              \n",
            "                                                                                                  \n",
            " block13_sepconv1 (SeparableCon  (None, 11, 11, 728)  536536     ['block13_sepconv1_act[0][0]']   \n",
            " v2D)                                                                                             \n",
            "                                                                                                  \n",
            " block13_sepconv1_bn (BatchNorm  (None, 11, 11, 728)  2912       ['block13_sepconv1[0][0]']       \n",
            " alization)                                                                                       \n",
            "                                                                                                  \n",
            " block13_sepconv2_act (Activati  (None, 11, 11, 728)  0          ['block13_sepconv1_bn[0][0]']    \n",
            " on)                                                                                              \n",
            "                                                                                                  \n",
            " block13_sepconv2 (SeparableCon  (None, 11, 11, 1024  752024     ['block13_sepconv2_act[0][0]']   \n",
            " v2D)                           )                                                                 \n",
            "                                                                                                  \n",
            " block13_sepconv2_bn (BatchNorm  (None, 11, 11, 1024  4096       ['block13_sepconv2[0][0]']       \n",
            " alization)                     )                                                                 \n",
            "                                                                                                  \n",
            " conv2d_3 (Conv2D)              (None, 6, 6, 1024)   745472      ['add_10[0][0]']                 \n",
            "                                                                                                  \n",
            " block13_pool (MaxPooling2D)    (None, 6, 6, 1024)   0           ['block13_sepconv2_bn[0][0]']    \n",
            "                                                                                                  \n",
            " batch_normalization_3 (BatchNo  (None, 6, 6, 1024)  4096        ['conv2d_3[0][0]']               \n",
            " rmalization)                                                                                     \n",
            "                                                                                                  \n",
            " add_11 (Add)                   (None, 6, 6, 1024)   0           ['block13_pool[0][0]',           \n",
            "                                                                  'batch_normalization_3[0][0]']  \n",
            "                                                                                                  \n",
            " block14_sepconv1 (SeparableCon  (None, 6, 6, 1536)  1582080     ['add_11[0][0]']                 \n",
            " v2D)                                                                                             \n",
            "                                                                                                  \n",
            " block14_sepconv1_bn (BatchNorm  (None, 6, 6, 1536)  6144        ['block14_sepconv1[0][0]']       \n",
            " alization)                                                                                       \n",
            "                                                                                                  \n",
            " block14_sepconv1_act (Activati  (None, 6, 6, 1536)  0           ['block14_sepconv1_bn[0][0]']    \n",
            " on)                                                                                              \n",
            "                                                                                                  \n",
            " block14_sepconv2 (SeparableCon  (None, 6, 6, 2048)  3159552     ['block14_sepconv1_act[0][0]']   \n",
            " v2D)                                                                                             \n",
            "                                                                                                  \n",
            " block14_sepconv2_bn (BatchNorm  (None, 6, 6, 2048)  8192        ['block14_sepconv2[0][0]']       \n",
            " alization)                                                                                       \n",
            "                                                                                                  \n",
            " block14_sepconv2_act (Activati  (None, 6, 6, 2048)  0           ['block14_sepconv2_bn[0][0]']    \n",
            " on)                                                                                              \n",
            "                                                                                                  \n",
            " flatten (Flatten)              (None, 73728)        0           ['block14_sepconv2_act[0][0]']   \n",
            "                                                                                                  \n",
            " dense (Dense)                  (None, 1024)         75498496    ['flatten[0][0]']                \n",
            "                                                                                                  \n",
            " dropout (Dropout)              (None, 1024)         0           ['dense[0][0]']                  \n",
            "                                                                                                  \n",
            " dense_1 (Dense)                (None, 256)          262400      ['dropout[0][0]']                \n",
            "                                                                                                  \n",
            " dropout_1 (Dropout)            (None, 256)          0           ['dense_1[0][0]']                \n",
            "                                                                                                  \n",
            " dense_2 (Dense)                (None, 1)            257         ['dropout_1[0][0]']              \n",
            "                                                                                                  \n",
            "==================================================================================================\n",
            "Total params: 96,622,633\n",
            "Trainable params: 75,761,153\n",
            "Non-trainable params: 20,861,480\n",
            "__________________________________________________________________________________________________\n"
          ]
        }
      ],
      "source": [
        "last_layer=model.get_layer('block14_sepconv2_act')\n",
        "last_output = last_layer.output\n",
        "\n",
        "x=tf.keras.layers.Flatten()(last_output)\n",
        "x=tf.keras.layers.Dense(1024,activation='relu')(x)\n",
        "x=tf.keras.layers.Dropout(0.2)(x)\n",
        "x=tf.keras.layers.Dense(256,activation='relu')(x)\n",
        "x=tf.keras.layers.Dropout(0.2)(x)\n",
        "x=tf.keras.layers.Dense(1,activation='sigmoid')(x)\n",
        "\n",
        "model=tf.keras.Model(model.input,x)\n",
        "\n",
        "model.compile(optimizer=RMSprop(lr=0.001),\n",
        "              loss='binary_crossentropy',\n",
        "               metrics=['accuracy','Precision','Recall'])\n",
        "\n",
        "model.summary()"
      ]
    },
    {
      "cell_type": "markdown",
      "source": [
        "training the model."
      ],
      "metadata": {
        "id": "ZDCPwTgbd2Cl"
      }
    },
    {
      "cell_type": "code",
      "execution_count": null,
      "metadata": {
        "colab": {
          "base_uri": "https://localhost:8080/"
        },
        "id": "ebXBm2OHWJo5",
        "outputId": "29924e33-17b1-4d4a-b7cc-8da593d82b0b"
      },
      "outputs": [
        {
          "metadata": {
            "tags": null
          },
          "name": "stdout",
          "output_type": "stream",
          "text": [
            "Epoch 1/10\n",
            "5/5 - 369s - loss: 41.9830 - accuracy: 0.6406 - precision: 0.2270 - recall: 0.2092 - val_loss: 22.4187 - val_accuracy: 0.2232 - val_precision: 0.2232 - val_recall: 1.0000 - 369s/epoch - 74s/step\n",
            "Epoch 2/10\n",
            "5/5 - 332s - loss: 6.3308 - accuracy: 0.6281 - precision: 0.2686 - recall: 0.2994 - val_loss: 5.1695 - val_accuracy: 0.2340 - val_precision: 0.2257 - val_recall: 1.0000 - 332s/epoch - 66s/step\n",
            "Epoch 3/10\n",
            "5/5 - 348s - loss: 3.4273 - accuracy: 0.6250 - precision: 0.2270 - recall: 0.3022 - val_loss: 2.0834 - val_accuracy: 0.7768 - val_precision: 0.0000e+00 - val_recall: 0.0000e+00 - 348s/epoch - 70s/step\n",
            "Epoch 4/10\n",
            "5/5 - 347s - loss: 1.2913 - accuracy: 0.6953 - precision: 0.3206 - recall: 0.2838 - val_loss: 1.6354 - val_accuracy: 0.7768 - val_precision: 0.0000e+00 - val_recall: 0.0000e+00 - 347s/epoch - 69s/step\n",
            "Epoch 5/10\n",
            "5/5 - 316s - loss: 0.9584 - accuracy: 0.7453 - precision: 0.3875 - recall: 0.2138 - val_loss: 0.8124 - val_accuracy: 0.5390 - val_precision: 0.3211 - val_recall: 0.9558 - 316s/epoch - 63s/step\n",
            "Epoch 6/10\n",
            "5/5 - 325s - loss: 0.9977 - accuracy: 0.6953 - precision: 0.3022 - recall: 0.3000 - val_loss: 0.5263 - val_accuracy: 0.7768 - val_precision: 0.0000e+00 - val_recall: 0.0000e+00 - 325s/epoch - 65s/step\n",
            "Epoch 7/10\n",
            "5/5 - 345s - loss: 0.6534 - accuracy: 0.7375 - precision: 0.4556 - recall: 0.2562 - val_loss: 0.7181 - val_accuracy: 0.5700 - val_precision: 0.3366 - val_recall: 0.9537 - 345s/epoch - 69s/step\n",
            "Epoch 8/10\n",
            "5/5 - 344s - loss: 0.5694 - accuracy: 0.7641 - precision: 0.4017 - recall: 0.3672 - val_loss: 0.3831 - val_accuracy: 0.8191 - val_precision: 0.7778 - val_recall: 0.2653 - 344s/epoch - 69s/step\n",
            "Epoch 9/10\n",
            "5/5 - 356s - loss: 0.5817 - accuracy: 0.7453 - precision: 0.4188 - recall: 0.3403 - val_loss: 1.0955 - val_accuracy: 0.7768 - val_precision: 0.0000e+00 - val_recall: 0.0000e+00 - 356s/epoch - 71s/step\n",
            "Epoch 10/10\n",
            "5/5 - 325s - loss: 0.8126 - accuracy: 0.7312 - precision: 0.3103 - recall: 0.1942 - val_loss: 0.4927 - val_accuracy: 0.8153 - val_precision: 0.6165 - val_recall: 0.4568 - 325s/epoch - 65s/step\n"
          ]
        }
      ],
      "source": [
        "history = model.fit(train_generator,validation_data=val_generator,epochs=10,steps_per_epoch=5,verbose=2)"
      ]
    },
    {
      "cell_type": "markdown",
      "source": [
        "Visualizing the Training and validation parameters for model estimation"
      ],
      "metadata": {
        "id": "oYZWIRw-eDK-"
      }
    },
    {
      "cell_type": "code",
      "execution_count": null,
      "metadata": {
        "colab": {
          "base_uri": "https://localhost:8080/",
          "height": 1000
        },
        "id": "D21vfFgwi9Zz",
        "outputId": "df43c14e-a2e1-4c03-cb6e-9f80527603e8"
      },
      "outputs": [
        {
          "output_type": "display_data",
          "data": {
            "text/plain": [
              "<Figure size 432x288 with 1 Axes>"
            ],
            "image/png": "[encoded data removed]"
          },
          "metadata": {
            "needs_background": "light"
          }
        },
        {
          "output_type": "display_data",
          "data": {
            "text/plain": [
              "<Figure size 432x288 with 1 Axes>"
            ],
            "image/png": "[encoded data removed]"
          },
          "metadata": {
            "needs_background": "light"
          }
        },
        {
          "output_type": "display_data",
          "data": {
            "text/plain": [
              "<Figure size 432x288 with 1 Axes>"
            ],
            "image/png": "[encoded data removed]"
          },
          "metadata": {
            "needs_background": "light"
          }
        },
        {
          "output_type": "display_data",
          "data": {
            "text/plain": [
              "<Figure size 432x288 with 1 Axes>"
            ],
            "image/png": "[encoded data removed]"
          },
          "metadata": {
            "needs_background": "light"
          }
        }
      ],
      "source": [
        "acc2 = history.history['accuracy']\n",
        "val_acc2 = history.history['val_accuracy']\n",
        "\n",
        "train_precision2=history.history['precision']\n",
        "val_precision2=history.history['val_precision']\n",
        "\n",
        "train_recall2=history.history['recall']\n",
        "val_recall2=history.history['val_recall']\n",
        "\n",
        "loss2 = history.history['loss']\n",
        "val_loss2 = history.history['val_loss']\n",
        "epochs = range(len(acc2))\n",
        "\n",
        "\n",
        "plt.plot(epochs, acc2, 'r', label='Training accuracy')\n",
        "plt.plot(epochs, val_acc2, 'b', label='Validation accuracy')\n",
        "plt.title('Training and validation accuracy')\n",
        "plt.legend()\n",
        "plt.show()\n",
        "\n",
        "plt.plot(epochs, train_precision2, 'r', label='Training precision')\n",
        "plt.plot(epochs, val_precision2, 'b', label='Validation precision')\n",
        "plt.title('Training and validation precision')\n",
        "plt.legend()\n",
        "plt.show()\n",
        "\n",
        "plt.plot(epochs, train_recall2, 'r', label='Training recall')\n",
        "plt.plot(epochs, val_recall2, 'b', label='Validation recall')\n",
        "plt.title('Training and validation recall')\n",
        "plt.legend()\n",
        "plt.show()\n",
        "\n",
        "plt.plot(epochs, loss2, 'r', label='Training Loss')\n",
        "plt.plot(epochs, val_loss2, 'b', label='Validation Loss')\n",
        "plt.title('Training and validation loss')\n",
        "plt.legend()\n",
        "plt.show()"
      ]
    },
    {
      "cell_type": "code",
      "execution_count": null,
      "metadata": {
        "colab": {
          "base_uri": "https://localhost:8080/"
        },
        "id": "4mMlH7hAq6VZ",
        "outputId": "9ab6bd4f-8dc5-4728-8b3b-d755049e4ee1"
      },
      "outputs": [
        {
          "output_type": "stream",
          "name": "stderr",
          "text": [
            "/usr/local/lib/python3.7/dist-packages/ipykernel_launcher.py:1: UserWarning: `Model.evaluate_generator` is deprecated and will be removed in a future version. Please use `Model.evaluate`, which supports generators.\n",
            "  \"\"\"Entry point for launching an IPython kernel.\n"
          ]
        },
        {
          "output_type": "stream",
          "name": "stdout",
          "text": [
            "  17/2132 [..............................] - ETA: 9:33:34 - loss: 0.4974 - accuracy: 0.8180 - precision: 0.6297 - recall: 0.4528"
          ]
        },
        {
          "output_type": "stream",
          "name": "stderr",
          "text": [
            "WARNING:tensorflow:Your input ran out of data; interrupting training. Make sure that your dataset or generator can generate at least `steps_per_epoch * epochs` batches (in this case, 2132 batches). You may need to use the repeat() function when building your dataset.\n"
          ]
        },
        {
          "output_type": "stream",
          "name": "stdout",
          "text": [
            "\b\b\b\b\b\b\b\b\b\b\b\b\b\b\b\b\b\b\b\b\b\b\b\b\b\b\b\b\b\b\b\b\b\b\b\b\b\b\b\b\b\b\b\b\b\b\b\b\b\b\b\b\b\b\b\b\b\b\b\b\b\b\b\b\b\b\b\b\b\b\b\b\b\b\b\b\b\b\b\b\b\b\b\b\b\b\b\b\b\b\b\b\b\b\b\b\b\b\b\b\b\b\b\b\b\b\b\b\b\b\b\b\b\b\b\b\b\b\b\b\b\b\b\b\b\b\b\b\r2132/2132 [==============================] - 276s 122ms/step - loss: 0.4974 - accuracy: 0.8180 - precision: 0.6297 - recall: 0.4528\n",
            "loss  : 0.4973980486392975\n",
            "accuracy  : 0.8180112838745117\n",
            "Precision : 0.6297376155853271\n",
            "Recall : 0.4528301954269409\n"
          ]
        }
      ],
      "source": [
        "eval_result3 = model.evaluate_generator(test_generator, 2132,verbose=1)\n",
        "print('loss  :', eval_result3[0])\n",
        "print('accuracy  :', eval_result3[1])\n",
        "print('Precision :', eval_result3[2])\n",
        "print('Recall :', eval_result3[3])"
      ]
    },
    {
      "cell_type": "markdown",
      "source": [
        "Dividing the test folders into appropriate folders to perform 5-fold cross-validation."
      ],
      "metadata": {
        "id": "ypfzIReVeOCQ"
      }
    },
    {
      "cell_type": "code",
      "execution_count": null,
      "metadata": {
        "id": "sut3GYfrAjm3"
      },
      "outputs": [],
      "source": [
        "import os\n",
        "directory = \"5-fold\"\n",
        "parent_dir = \"/content/drive/MyDrive/CBL_Assignment/TAsk-2/Output/test\"\n",
        "path = os.path.join(parent_dir, directory)\n",
        "os.mkdir(path)"
      ]
    },
    {
      "cell_type": "code",
      "execution_count": null,
      "metadata": {
        "id": "ziQ9-pFzNYtI"
      },
      "outputs": [],
      "source": [
        "parent_dir = \"/content/drive/MyDrive/CBL_Assignment/TAsk-2/Output/test/5-fold\"\n",
        "for i in range(5):\n",
        "  path = os.path.join(parent_dir,\"Val-\"+str(i))\n",
        "  os.mkdir(path)"
      ]
    },
    {
      "cell_type": "code",
      "execution_count": null,
      "metadata": {
        "id": "UH0cjBnnOPEl"
      },
      "outputs": [],
      "source": [
        "for i in range(5):\n",
        "  path = os.path.join(\"/content/drive/MyDrive/CBL_Assignment/TAsk-2/Output/test/5-fold/Val-\"+str(i),\"Normal\")\n",
        "  path2 = os.path.join(\"/content/drive/MyDrive/CBL_Assignment/TAsk-2/Output/test/5-fold/Val-\"+str(i),\"Pneumonia\")\n",
        "  os.mkdir(path)\n",
        "  os.mkdir(path2)"
      ]
    },
    {
      "cell_type": "code",
      "execution_count": null,
      "metadata": {
        "id": "u8ReKy9RO4m9"
      },
      "outputs": [],
      "source": [
        "import os\n",
        "import shutil\n",
        "import math"
      ]
    },
    {
      "cell_type": "code",
      "execution_count": null,
      "metadata": {
        "id": "bA0GoLMLPL-M"
      },
      "outputs": [],
      "source": [
        "origin_n = '/content/drive/MyDrive/CBL_Assignment/TAsk-2/Output/test/Normal'\n",
        "Origin_p='/content/drive/MyDrive/CBL_Assignment/TAsk-2/Output/test/Pneumonia'"
      ]
    },
    {
      "cell_type": "code",
      "execution_count": null,
      "metadata": {
        "id": "Zk7Qzfs2PRR3"
      },
      "outputs": [],
      "source": [
        "files_n = os.listdir(origin_n)\n",
        "files_p = os.listdir(Origin_p)"
      ]
    },
    {
      "cell_type": "code",
      "execution_count": null,
      "metadata": {
        "colab": {
          "base_uri": "https://localhost:8080/"
        },
        "id": "rlIT9p7dQvst",
        "outputId": "ab6d9ce6-0dda-47a2-85d5-4162383b7322"
      },
      "outputs": [
        {
          "output_type": "execute_result",
          "data": {
            "text/plain": [
              "1655"
            ]
          },
          "metadata": {},
          "execution_count": 19
        }
      ],
      "source": [
        "len(files_n)"
      ]
    },
    {
      "cell_type": "code",
      "execution_count": null,
      "metadata": {
        "id": "IsC6JHyMPjBp"
      },
      "outputs": [],
      "source": [
        "l=math.floor(len(files_n)/5)\n",
        "for i in range(5):\n",
        "  target = '/content/drive/MyDrive/CBL_Assignment/TAsk-2/Output/test/5-fold/Val-'+str(i)+'/Normal'\n",
        "  files_n=os.listdir(origin_n)\n",
        "  h=0\n",
        "  for file_name in files_n:\n",
        "    if(h<l):\n",
        "      shutil.copy(origin_n+\"/\"+file_name, target+\"/\"+file_name)\n",
        "      os.remove(origin_n+\"/\"+file_name)\n",
        "      h=h+1\n",
        "    else:\n",
        "      break\n",
        "  \n"
      ]
    },
    {
      "cell_type": "code",
      "execution_count": null,
      "metadata": {
        "id": "uckOurrhObje"
      },
      "outputs": [],
      "source": [
        "l_p=math.floor(len(files_p)/5)\n",
        "for i in range(5):\n",
        "  target = '/content/drive/MyDrive/CBL_Assignment/TAsk-2/Output/test/5-fold/Val-'+str(i)+'/Pneumonia'\n",
        "  files_P=os.listdir(Origin_p)\n",
        "  h=0\n",
        "  for file_name in files_P:\n",
        "    if(h<l_p):\n",
        "      shutil.copy(Origin_p+\"/\"+file_name, target+\"/\"+file_name)\n",
        "      os.remove(Origin_p+\"/\"+file_name)\n",
        "      h=h+1\n",
        "    else:\n",
        "      break\n",
        "  "
      ]
    },
    {
      "cell_type": "code",
      "source": [
        "test_val_datagen=ImageDataGenerator(rescale=1.0/255)"
      ],
      "metadata": {
        "id": "QYVBGlNjuE8M"
      },
      "execution_count": null,
      "outputs": []
    },
    {
      "cell_type": "code",
      "source": [
        "len(os.listdir('/content/drive/MyDrive/CBL_Assignment/TAsk-2/Output/test/5-fold/Val-3/Pneumonia'))\n"
      ],
      "metadata": {
        "colab": {
          "base_uri": "https://localhost:8080/"
        },
        "id": "yHwUDoVivY9n",
        "outputId": "52717af2-8fb1-4fa3-f414-224a41f3f09d"
      },
      "execution_count": null,
      "outputs": [
        {
          "output_type": "execute_result",
          "data": {
            "text/plain": [
              "95"
            ]
          },
          "metadata": {},
          "execution_count": 32
        }
      ]
    },
    {
      "cell_type": "markdown",
      "source": [
        "5-fold cross validation."
      ],
      "metadata": {
        "id": "v7emHGKTeljk"
      }
    },
    {
      "cell_type": "code",
      "source": [
        "for i in range(5):\n",
        "  test_val_generator=test_val_datagen.flow_from_directory('/content/drive/MyDrive/CBL_Assignment/TAsk-2/Output/test/5-fold/Val-'+str(i),\n",
        "                                                          batch_size=19,target_size=(180,180),class_mode='binary')\n",
        "  print(\"---------------------------------------FOLD\"+str(i)+\"---------------------------------------------------------\")\n",
        "  model.fit(test_val_generator,epochs=10,steps_per_epoch=5,verbose=2)\n",
        "  "
      ],
      "metadata": {
        "colab": {
          "base_uri": "https://localhost:8080/"
        },
        "id": "nhJ012Qyt2L3",
        "outputId": "bfb6a005-507b-4f8d-eb52-e5b6c019e739"
      },
      "execution_count": null,
      "outputs": [
        {
          "output_type": "stream",
          "name": "stdout",
          "text": [
            "Found 426 images belonging to 2 classes.\n",
            "---------------------------------------FOLD0---------------------------------------------------------\n",
            "Epoch 1/10\n",
            "5/5 - 18s - loss: 0.3883 - accuracy: 0.8316 - precision: 0.5714 - recall: 0.4444 - 18s/epoch - 4s/step\n",
            "Epoch 2/10\n",
            "5/5 - 17s - loss: 0.3402 - accuracy: 0.8632 - precision: 0.7222 - recall: 0.6190 - 17s/epoch - 3s/step\n",
            "Epoch 3/10\n",
            "5/5 - 16s - loss: 0.4750 - accuracy: 0.8632 - precision: 0.7368 - recall: 0.6364 - 16s/epoch - 3s/step\n",
            "Epoch 4/10\n",
            "5/5 - 15s - loss: 0.3168 - accuracy: 0.8690 - precision: 0.7143 - recall: 0.7500 - 15s/epoch - 3s/step\n",
            "Epoch 5/10\n",
            "5/5 - 19s - loss: 0.2194 - accuracy: 0.9053 - precision: 0.7500 - recall: 0.7059 - 19s/epoch - 4s/step\n",
            "Epoch 6/10\n",
            "5/5 - 15s - loss: 0.3653 - accuracy: 0.8452 - precision: 0.6000 - recall: 0.5625 - 15s/epoch - 3s/step\n",
            "Epoch 7/10\n",
            "5/5 - 18s - loss: 0.2527 - accuracy: 0.9158 - precision: 0.8636 - recall: 0.7917 - 18s/epoch - 4s/step\n",
            "Epoch 8/10\n",
            "5/5 - 17s - loss: 0.5566 - accuracy: 0.8421 - precision: 0.6842 - recall: 0.5909 - 17s/epoch - 3s/step\n",
            "Epoch 9/10\n",
            "5/5 - 16s - loss: 0.1897 - accuracy: 0.9474 - precision: 0.8947 - recall: 0.8500 - 16s/epoch - 3s/step\n",
            "Epoch 10/10\n",
            "5/5 - 16s - loss: 0.3533 - accuracy: 0.8737 - precision: 0.6522 - recall: 0.7895 - 16s/epoch - 3s/step\n",
            "Found 426 images belonging to 2 classes.\n",
            "---------------------------------------FOLD1---------------------------------------------------------\n",
            "Epoch 1/10\n",
            "5/5 - 17s - loss: 0.5836 - accuracy: 0.8842 - precision: 0.8571 - recall: 0.5714 - 17s/epoch - 3s/step\n",
            "Epoch 2/10\n",
            "5/5 - 17s - loss: 0.5717 - accuracy: 0.8333 - precision: 0.6800 - recall: 0.7391 - 17s/epoch - 3s/step\n",
            "Epoch 3/10\n",
            "5/5 - 16s - loss: 0.5164 - accuracy: 0.8421 - precision: 0.5833 - recall: 0.4118 - 16s/epoch - 3s/step\n",
            "Epoch 4/10\n",
            "5/5 - 16s - loss: 0.3834 - accuracy: 0.8316 - precision: 0.6774 - recall: 0.7778 - 16s/epoch - 3s/step\n",
            "Epoch 5/10\n",
            "5/5 - 14s - loss: 0.4527 - accuracy: 0.8810 - precision: 0.8519 - recall: 0.7931 - 14s/epoch - 3s/step\n",
            "Epoch 6/10\n",
            "5/5 - 15s - loss: 0.3740 - accuracy: 0.8690 - precision: 0.8667 - recall: 0.5909 - 15s/epoch - 3s/step\n",
            "Epoch 7/10\n",
            "5/5 - 18s - loss: 0.2197 - accuracy: 0.8842 - precision: 0.7391 - recall: 0.7727 - 18s/epoch - 4s/step\n",
            "Epoch 8/10\n",
            "5/5 - 16s - loss: 0.3516 - accuracy: 0.8526 - precision: 0.6800 - recall: 0.7391 - 16s/epoch - 3s/step\n",
            "Epoch 9/10\n",
            "5/5 - 14s - loss: 0.2974 - accuracy: 0.8842 - precision: 0.6364 - recall: 0.5000 - 14s/epoch - 3s/step\n",
            "Epoch 10/10\n",
            "5/5 - 14s - loss: 0.2129 - accuracy: 0.8947 - precision: 0.7273 - recall: 0.8000 - 14s/epoch - 3s/step\n",
            "Found 426 images belonging to 2 classes.\n",
            "---------------------------------------FOLD2---------------------------------------------------------\n",
            "Epoch 1/10\n",
            "5/5 - 12s - loss: 0.4098 - accuracy: 0.8929 - precision: 0.8125 - recall: 0.6842 - 12s/epoch - 2s/step\n",
            "Epoch 2/10\n",
            "5/5 - 14s - loss: 0.3476 - accuracy: 0.8842 - precision: 0.8000 - recall: 0.6957 - 14s/epoch - 3s/step\n",
            "Epoch 3/10\n",
            "5/5 - 15s - loss: 0.3257 - accuracy: 0.8842 - precision: 0.6875 - recall: 0.6471 - 15s/epoch - 3s/step\n",
            "Epoch 4/10\n",
            "5/5 - 15s - loss: 0.7344 - accuracy: 0.8421 - precision: 0.6154 - recall: 0.4444 - 15s/epoch - 3s/step\n",
            "Epoch 5/10\n",
            "5/5 - 15s - loss: 0.3802 - accuracy: 0.8316 - precision: 0.7692 - recall: 0.6667 - 15s/epoch - 3s/step\n",
            "Epoch 6/10\n",
            "5/5 - 15s - loss: 0.1665 - accuracy: 0.9263 - precision: 0.8500 - recall: 0.8095 - 15s/epoch - 3s/step\n",
            "Epoch 7/10\n",
            "5/5 - 14s - loss: 0.2569 - accuracy: 0.8947 - precision: 0.8000 - recall: 0.7273 - 14s/epoch - 3s/step\n",
            "Epoch 8/10\n",
            "5/5 - 14s - loss: 0.2497 - accuracy: 0.8632 - precision: 0.7419 - recall: 0.8214 - 14s/epoch - 3s/step\n",
            "Epoch 9/10\n",
            "5/5 - 14s - loss: 0.5812 - accuracy: 0.8105 - precision: 0.6087 - recall: 0.6087 - 14s/epoch - 3s/step\n",
            "Epoch 10/10\n",
            "5/5 - 14s - loss: 0.1430 - accuracy: 0.9579 - precision: 0.9167 - recall: 0.9167 - 14s/epoch - 3s/step\n",
            "Found 426 images belonging to 2 classes.\n",
            "---------------------------------------FOLD3---------------------------------------------------------\n",
            "Epoch 1/10\n",
            "5/5 - 14s - loss: 0.6037 - accuracy: 0.8421 - precision: 0.6957 - recall: 0.6667 - 14s/epoch - 3s/step\n",
            "Epoch 2/10\n",
            "5/5 - 14s - loss: 0.3885 - accuracy: 0.8842 - precision: 0.7500 - recall: 0.6316 - 14s/epoch - 3s/step\n",
            "Epoch 3/10\n",
            "5/5 - 14s - loss: 0.3030 - accuracy: 0.8526 - precision: 0.6818 - recall: 0.6818 - 14s/epoch - 3s/step\n",
            "Epoch 4/10\n",
            "5/5 - 20s - loss: 0.4405 - accuracy: 0.8842 - precision: 0.7273 - recall: 0.7619 - 20s/epoch - 4s/step\n",
            "Epoch 5/10\n",
            "5/5 - 16s - loss: 0.3090 - accuracy: 0.8842 - precision: 0.7778 - recall: 0.4375 - 16s/epoch - 3s/step\n",
            "Epoch 6/10\n",
            "5/5 - 14s - loss: 0.2194 - accuracy: 0.8842 - precision: 0.8095 - recall: 0.7083 - 14s/epoch - 3s/step\n",
            "Epoch 7/10\n",
            "5/5 - 14s - loss: 0.2438 - accuracy: 0.9368 - precision: 0.9630 - recall: 0.8387 - 14s/epoch - 3s/step\n",
            "Epoch 8/10\n",
            "5/5 - 13s - loss: 0.4019 - accuracy: 0.8452 - precision: 0.6364 - recall: 0.7368 - 13s/epoch - 3s/step\n",
            "Epoch 9/10\n",
            "5/5 - 13s - loss: 0.1722 - accuracy: 0.9286 - precision: 0.8462 - recall: 0.7333 - 13s/epoch - 3s/step\n",
            "Epoch 10/10\n",
            "5/5 - 16s - loss: 0.1280 - accuracy: 0.9474 - precision: 0.8696 - recall: 0.9091 - 16s/epoch - 3s/step\n",
            "Found 426 images belonging to 2 classes.\n",
            "---------------------------------------FOLD4---------------------------------------------------------\n",
            "Epoch 1/10\n",
            "5/5 - 16s - loss: 0.7411 - accuracy: 0.8105 - precision: 0.6000 - recall: 0.5455 - 16s/epoch - 3s/step\n",
            "Epoch 2/10\n",
            "5/5 - 13s - loss: 0.4324 - accuracy: 0.8690 - precision: 0.7391 - recall: 0.7727 - 13s/epoch - 3s/step\n",
            "Epoch 3/10\n",
            "5/5 - 13s - loss: 0.1920 - accuracy: 0.9405 - precision: 0.8571 - recall: 0.8000 - 13s/epoch - 3s/step\n",
            "Epoch 4/10\n",
            "5/5 - 14s - loss: 0.6520 - accuracy: 0.8842 - precision: 0.7692 - recall: 0.5556 - 14s/epoch - 3s/step\n",
            "Epoch 5/10\n",
            "5/5 - 16s - loss: 0.2495 - accuracy: 0.8737 - precision: 0.7778 - recall: 0.6364 - 16s/epoch - 3s/step\n",
            "Epoch 6/10\n",
            "5/5 - 15s - loss: 0.2707 - accuracy: 0.8947 - precision: 0.7500 - recall: 0.7500 - 15s/epoch - 3s/step\n",
            "Epoch 7/10\n",
            "5/5 - 14s - loss: 0.2695 - accuracy: 0.8842 - precision: 0.7143 - recall: 0.7500 - 14s/epoch - 3s/step\n",
            "Epoch 8/10\n",
            "5/5 - 14s - loss: 0.7055 - accuracy: 0.8421 - precision: 0.5263 - recall: 0.6250 - 14s/epoch - 3s/step\n",
            "Epoch 9/10\n",
            "5/5 - 14s - loss: 0.1869 - accuracy: 0.9158 - precision: 0.8667 - recall: 0.6842 - 14s/epoch - 3s/step\n",
            "Epoch 10/10\n",
            "5/5 - 14s - loss: 0.1164 - accuracy: 0.9579 - precision: 0.8696 - recall: 0.9524 - 14s/epoch - 3s/step\n"
          ]
        }
      ]
    }
  ],
  "metadata": {
    "colab": {
      "provenance": [],
      "collapsed_sections": [],
      "mount_file_id": "1O4BAluo5PjNRzA6wMCiWr3lXcFXQWZlH",
      "authorship_tag": "ABX9TyPAq9hqi6XBvALFFkF57Z+p",
      "include_colab_link": true
    },
    "kernelspec": {
      "display_name": "Python 3",
      "name": "python3"
    },
    "language_info": {
      "name": "python"
    }
  },
  "nbformat": 4,
  "nbformat_minor": 0
}